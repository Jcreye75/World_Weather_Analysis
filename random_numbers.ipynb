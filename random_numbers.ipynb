{
 "cells": [
  {
   "cell_type": "code",
   "execution_count": 1,
   "id": "bf867a27",
   "metadata": {},
   "outputs": [],
   "source": [
    "# Import the random module.\n",
    "import random"
   ]
  },
  {
   "cell_type": "code",
   "execution_count": 19,
   "id": "e53e532b",
   "metadata": {},
   "outputs": [
    {
     "data": {
      "text/plain": [
       "-12"
      ]
     },
     "execution_count": 19,
     "metadata": {},
     "output_type": "execute_result"
    }
   ],
   "source": [
    "random.randint(-90,90)"
   ]
  },
  {
   "cell_type": "code",
   "execution_count": 28,
   "id": "2aecb47e",
   "metadata": {},
   "outputs": [
    {
     "data": {
      "text/plain": [
       "[-55.36150929331012,\n",
       " 73.58903653072339,\n",
       " -30.11002378816688,\n",
       " 49.29760408286603,\n",
       " -10.883548194966881,\n",
       " -64.36508041104759,\n",
       " 70.02284217633444,\n",
       " 12.800751287226188,\n",
       " -80.0578405950051,\n",
       " 47.64428716057125]"
      ]
     },
     "execution_count": 28,
     "metadata": {},
     "output_type": "execute_result"
    }
   ],
   "source": [
    "x = 1\n",
    "latitudes = []\n",
    "while x < 11:\n",
    "    random_lat = random.randint(-90, 89) + random.random()\n",
    "    latitudes.append(random_lat)\n",
    "    x += 1\n",
    "latitudes\n"
   ]
  },
  {
   "cell_type": "code",
   "execution_count": 30,
   "id": "ff1b90db",
   "metadata": {},
   "outputs": [],
   "source": [
    "# Import the NumPy module.\n",
    "import numpy as np"
   ]
  },
  {
   "cell_type": "code",
   "execution_count": 31,
   "id": "9a6257b9",
   "metadata": {},
   "outputs": [
    {
     "data": {
      "text/plain": [
       "array([-47.88317105,  60.86767216,  -8.96843349,  63.64165886,\n",
       "       -49.66102357, -15.65729782, -42.61637529,  58.40246155,\n",
       "        -3.06001258, -78.62006711,  40.89521936,  35.07497652,\n",
       "        82.88301055,  85.35191655,  38.60151205, -68.22133479,\n",
       "         3.82021308, -76.99794885, -59.4051756 ,  66.33556207,\n",
       "        -9.04188894,  31.2680131 , -48.62434125, -71.02607075,\n",
       "       -84.02410239,  -6.7028096 , -55.54818423, -36.61901833,\n",
       "        -7.75991236,  22.4856987 , -44.08061664,  65.94223412,\n",
       "        -1.03412732,  -2.95552775, -52.49285496,  16.02855964,\n",
       "        43.02762765,  55.40847489, -51.06355595,  18.44043102,\n",
       "       -30.44039455, -45.23996721, -46.72806026,  74.21789321,\n",
       "        37.9929385 , -66.889146  ,  73.77148083,  -6.7978691 ,\n",
       "       -80.70532241, -19.89797122])"
      ]
     },
     "execution_count": 31,
     "metadata": {},
     "output_type": "execute_result"
    }
   ],
   "source": [
    "np.random.uniform(-90.000, 90.000, size=50)"
   ]
  },
  {
   "cell_type": "code",
   "execution_count": 32,
   "id": "c6cab4ac",
   "metadata": {},
   "outputs": [],
   "source": [
    "# Import timeit.\n",
    "import timeit\n"
   ]
  },
  {
   "cell_type": "code",
   "execution_count": 33,
   "id": "2f03466b",
   "metadata": {},
   "outputs": [
    {
     "name": "stdout",
     "output_type": "stream",
     "text": [
      "21.3 µs ± 621 ns per loop (mean ± std. dev. of 7 runs, 10000 loops each)\n"
     ]
    }
   ],
   "source": [
    "%timeit np.random.uniform(-90.000, 90.000, size=1500)"
   ]
  },
  {
   "cell_type": "code",
   "execution_count": 34,
   "id": "72374399",
   "metadata": {},
   "outputs": [
    {
     "name": "stdout",
     "output_type": "stream",
     "text": [
      "2.69 ms ± 239 µs per loop (mean ± std. dev. of 7 runs, 100 loops each)\n"
     ]
    }
   ],
   "source": [
    "def latitudes(size):\n",
    "    latitudes = []\n",
    "    x = 0\n",
    "    while x < (size):\n",
    "        random_lat = random.randint(-90, 90) + random.random()\n",
    "        latitudes.append(random_lat)\n",
    "        x += 1\n",
    "    return latitudes\n",
    "# Call the function with 1500.\n",
    "%timeit latitudes(1500)"
   ]
  },
  {
   "cell_type": "code",
   "execution_count": null,
   "id": "b2c76e0e",
   "metadata": {},
   "outputs": [],
   "source": []
  }
 ],
 "metadata": {
  "kernelspec": {
   "display_name": "PythonDAta",
   "language": "python",
   "name": "pythondata"
  },
  "language_info": {
   "codemirror_mode": {
    "name": "ipython",
    "version": 3
   },
   "file_extension": ".py",
   "mimetype": "text/x-python",
   "name": "python",
   "nbconvert_exporter": "python",
   "pygments_lexer": "ipython3",
   "version": "3.7.10"
  }
 },
 "nbformat": 4,
 "nbformat_minor": 5
}
